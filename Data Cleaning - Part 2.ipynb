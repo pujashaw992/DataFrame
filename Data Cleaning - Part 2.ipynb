{
 "cells": [
  {
   "cell_type": "code",
   "execution_count": 1,
   "id": "6278a617",
   "metadata": {},
   "outputs": [],
   "source": [
    "import numpy as np\n",
    "import pandas as pd\n",
    "import matplotlib.pyplot as plt\n",
    "import seaborn as sns\n",
    "\n",
    "import warnings\n",
    "warnings.filterwarnings(\"ignore\")"
   ]
  },
  {
   "cell_type": "markdown",
   "id": "881fdb05",
   "metadata": {},
   "source": [
    "**Imputing Null Values Using Forward Fill and Backward Fill Techniques**"
   ]
  },
  {
   "cell_type": "code",
   "execution_count": 2,
   "id": "bcaa7b8e",
   "metadata": {},
   "outputs": [],
   "source": [
    "df = pd.read_excel(\"C:/Users/Puja Shaw/Downloads/Data_clean_time_series.xlsx\")"
   ]
  },
  {
   "cell_type": "code",
   "execution_count": 3,
   "id": "ca2c51f4",
   "metadata": {},
   "outputs": [
    {
     "data": {
      "text/html": [
       "<div>\n",
       "<style scoped>\n",
       "    .dataframe tbody tr th:only-of-type {\n",
       "        vertical-align: middle;\n",
       "    }\n",
       "\n",
       "    .dataframe tbody tr th {\n",
       "        vertical-align: top;\n",
       "    }\n",
       "\n",
       "    .dataframe thead th {\n",
       "        text-align: right;\n",
       "    }\n",
       "</style>\n",
       "<table border=\"1\" class=\"dataframe\">\n",
       "  <thead>\n",
       "    <tr style=\"text-align: right;\">\n",
       "      <th></th>\n",
       "      <th>Location</th>\n",
       "      <th>Date</th>\n",
       "      <th>Value_lacs</th>\n",
       "      <th>Sold</th>\n",
       "    </tr>\n",
       "  </thead>\n",
       "  <tbody>\n",
       "    <tr>\n",
       "      <th>0</th>\n",
       "      <td>India</td>\n",
       "      <td>2021-09-21</td>\n",
       "      <td>NaN</td>\n",
       "      <td>Yes</td>\n",
       "    </tr>\n",
       "    <tr>\n",
       "      <th>1</th>\n",
       "      <td>India</td>\n",
       "      <td>2021-08-22</td>\n",
       "      <td>49.0</td>\n",
       "      <td>Yes</td>\n",
       "    </tr>\n",
       "    <tr>\n",
       "      <th>2</th>\n",
       "      <td>India</td>\n",
       "      <td>2021-09-16</td>\n",
       "      <td>36.0</td>\n",
       "      <td>Yes</td>\n",
       "    </tr>\n",
       "    <tr>\n",
       "      <th>3</th>\n",
       "      <td>India</td>\n",
       "      <td>2021-10-24</td>\n",
       "      <td>NaN</td>\n",
       "      <td>No</td>\n",
       "    </tr>\n",
       "    <tr>\n",
       "      <th>4</th>\n",
       "      <td>India</td>\n",
       "      <td>2021-06-05</td>\n",
       "      <td>45.0</td>\n",
       "      <td>Yes</td>\n",
       "    </tr>\n",
       "  </tbody>\n",
       "</table>\n",
       "</div>"
      ],
      "text/plain": [
       "  Location       Date  Value_lacs Sold\n",
       "0    India 2021-09-21         NaN  Yes\n",
       "1    India 2021-08-22        49.0  Yes\n",
       "2    India 2021-09-16        36.0  Yes\n",
       "3    India 2021-10-24         NaN   No\n",
       "4    India 2021-06-05        45.0  Yes"
      ]
     },
     "execution_count": 3,
     "metadata": {},
     "output_type": "execute_result"
    }
   ],
   "source": [
    "df.head()"
   ]
  },
  {
   "cell_type": "code",
   "execution_count": 4,
   "id": "d3570c17",
   "metadata": {},
   "outputs": [
    {
     "data": {
      "text/plain": [
       "Location              object\n",
       "Date          datetime64[ns]\n",
       "Value_lacs           float64\n",
       "Sold                  object\n",
       "dtype: object"
      ]
     },
     "execution_count": 4,
     "metadata": {},
     "output_type": "execute_result"
    }
   ],
   "source": [
    "df.dtypes"
   ]
  },
  {
   "cell_type": "code",
   "execution_count": 5,
   "id": "af460975",
   "metadata": {},
   "outputs": [
    {
     "data": {
      "text/plain": [
       "Location      0\n",
       "Date          0\n",
       "Value_lacs    6\n",
       "Sold          0\n",
       "dtype: int64"
      ]
     },
     "execution_count": 5,
     "metadata": {},
     "output_type": "execute_result"
    }
   ],
   "source": [
    "df.isnull().sum()"
   ]
  },
  {
   "cell_type": "code",
   "execution_count": 6,
   "id": "531c55f5",
   "metadata": {},
   "outputs": [
    {
     "data": {
      "text/html": [
       "<div>\n",
       "<style scoped>\n",
       "    .dataframe tbody tr th:only-of-type {\n",
       "        vertical-align: middle;\n",
       "    }\n",
       "\n",
       "    .dataframe tbody tr th {\n",
       "        vertical-align: top;\n",
       "    }\n",
       "\n",
       "    .dataframe thead th {\n",
       "        text-align: right;\n",
       "    }\n",
       "</style>\n",
       "<table border=\"1\" class=\"dataframe\">\n",
       "  <thead>\n",
       "    <tr style=\"text-align: right;\">\n",
       "      <th></th>\n",
       "      <th>Location</th>\n",
       "      <th>Date</th>\n",
       "      <th>Value_lacs</th>\n",
       "      <th>Sold</th>\n",
       "    </tr>\n",
       "  </thead>\n",
       "  <tbody>\n",
       "    <tr>\n",
       "      <th>0</th>\n",
       "      <td>India</td>\n",
       "      <td>2021-09-21</td>\n",
       "      <td>NaN</td>\n",
       "      <td>Yes</td>\n",
       "    </tr>\n",
       "    <tr>\n",
       "      <th>1</th>\n",
       "      <td>India</td>\n",
       "      <td>2021-08-22</td>\n",
       "      <td>49.0</td>\n",
       "      <td>Yes</td>\n",
       "    </tr>\n",
       "    <tr>\n",
       "      <th>2</th>\n",
       "      <td>India</td>\n",
       "      <td>2021-09-16</td>\n",
       "      <td>36.0</td>\n",
       "      <td>Yes</td>\n",
       "    </tr>\n",
       "    <tr>\n",
       "      <th>3</th>\n",
       "      <td>India</td>\n",
       "      <td>2021-10-24</td>\n",
       "      <td>NaN</td>\n",
       "      <td>No</td>\n",
       "    </tr>\n",
       "    <tr>\n",
       "      <th>4</th>\n",
       "      <td>India</td>\n",
       "      <td>2021-06-05</td>\n",
       "      <td>45.0</td>\n",
       "      <td>Yes</td>\n",
       "    </tr>\n",
       "    <tr>\n",
       "      <th>5</th>\n",
       "      <td>India</td>\n",
       "      <td>2021-11-26</td>\n",
       "      <td>NaN</td>\n",
       "      <td>No</td>\n",
       "    </tr>\n",
       "    <tr>\n",
       "      <th>6</th>\n",
       "      <td>India</td>\n",
       "      <td>2021-11-07</td>\n",
       "      <td>25.0</td>\n",
       "      <td>Yes</td>\n",
       "    </tr>\n",
       "    <tr>\n",
       "      <th>7</th>\n",
       "      <td>India</td>\n",
       "      <td>2021-12-28</td>\n",
       "      <td>76.0</td>\n",
       "      <td>Yes</td>\n",
       "    </tr>\n",
       "    <tr>\n",
       "      <th>8</th>\n",
       "      <td>India</td>\n",
       "      <td>2021-01-29</td>\n",
       "      <td>NaN</td>\n",
       "      <td>Yes</td>\n",
       "    </tr>\n",
       "    <tr>\n",
       "      <th>9</th>\n",
       "      <td>India</td>\n",
       "      <td>2021-11-30</td>\n",
       "      <td>65.0</td>\n",
       "      <td>No</td>\n",
       "    </tr>\n",
       "    <tr>\n",
       "      <th>10</th>\n",
       "      <td>India</td>\n",
       "      <td>2021-02-01</td>\n",
       "      <td>18.0</td>\n",
       "      <td>No</td>\n",
       "    </tr>\n",
       "    <tr>\n",
       "      <th>11</th>\n",
       "      <td>India</td>\n",
       "      <td>2021-05-02</td>\n",
       "      <td>NaN</td>\n",
       "      <td>Yes</td>\n",
       "    </tr>\n",
       "    <tr>\n",
       "      <th>12</th>\n",
       "      <td>India</td>\n",
       "      <td>2021-02-03</td>\n",
       "      <td>22.0</td>\n",
       "      <td>Yes</td>\n",
       "    </tr>\n",
       "    <tr>\n",
       "      <th>13</th>\n",
       "      <td>India</td>\n",
       "      <td>2021-04-04</td>\n",
       "      <td>35.0</td>\n",
       "      <td>No</td>\n",
       "    </tr>\n",
       "    <tr>\n",
       "      <th>14</th>\n",
       "      <td>India</td>\n",
       "      <td>2021-12-05</td>\n",
       "      <td>NaN</td>\n",
       "      <td>Yes</td>\n",
       "    </tr>\n",
       "  </tbody>\n",
       "</table>\n",
       "</div>"
      ],
      "text/plain": [
       "   Location       Date  Value_lacs Sold\n",
       "0     India 2021-09-21         NaN  Yes\n",
       "1     India 2021-08-22        49.0  Yes\n",
       "2     India 2021-09-16        36.0  Yes\n",
       "3     India 2021-10-24         NaN   No\n",
       "4     India 2021-06-05        45.0  Yes\n",
       "5     India 2021-11-26         NaN   No\n",
       "6     India 2021-11-07        25.0  Yes\n",
       "7     India 2021-12-28        76.0  Yes\n",
       "8     India 2021-01-29         NaN  Yes\n",
       "9     India 2021-11-30        65.0   No\n",
       "10    India 2021-02-01        18.0   No\n",
       "11    India 2021-05-02         NaN  Yes\n",
       "12    India 2021-02-03        22.0  Yes\n",
       "13    India 2021-04-04        35.0   No\n",
       "14    India 2021-12-05         NaN  Yes"
      ]
     },
     "execution_count": 6,
     "metadata": {},
     "output_type": "execute_result"
    }
   ],
   "source": [
    "df"
   ]
  },
  {
   "cell_type": "code",
   "execution_count": 7,
   "id": "2b796330",
   "metadata": {},
   "outputs": [
    {
     "data": {
      "text/plain": [
       "0      NaN\n",
       "1     49.0\n",
       "2     36.0\n",
       "3     36.0\n",
       "4     45.0\n",
       "5     45.0\n",
       "6     25.0\n",
       "7     76.0\n",
       "8     76.0\n",
       "9     65.0\n",
       "10    18.0\n",
       "11    18.0\n",
       "12    22.0\n",
       "13    35.0\n",
       "14    35.0\n",
       "Name: Value_lacs, dtype: float64"
      ]
     },
     "execution_count": 7,
     "metadata": {},
     "output_type": "execute_result"
    }
   ],
   "source": [
    "df.Value_lacs.fillna(method='ffill') # imputing null values by forward fill method"
   ]
  },
  {
   "cell_type": "code",
   "execution_count": 8,
   "id": "c229b92b",
   "metadata": {},
   "outputs": [
    {
     "data": {
      "text/plain": [
       "0     49.0\n",
       "1     49.0\n",
       "2     36.0\n",
       "3     45.0\n",
       "4     45.0\n",
       "5     25.0\n",
       "6     25.0\n",
       "7     76.0\n",
       "8     65.0\n",
       "9     65.0\n",
       "10    18.0\n",
       "11    22.0\n",
       "12    22.0\n",
       "13    35.0\n",
       "14     NaN\n",
       "Name: Value_lacs, dtype: float64"
      ]
     },
     "execution_count": 8,
     "metadata": {},
     "output_type": "execute_result"
    }
   ],
   "source": [
    "df.Value_lacs.fillna(method='bfill') # imputing null values by backward fill method"
   ]
  },
  {
   "cell_type": "markdown",
   "id": "fafc6d41",
   "metadata": {},
   "source": [
    "**Cleaning Textual Data:**"
   ]
  },
  {
   "cell_type": "code",
   "execution_count": 9,
   "id": "85802165",
   "metadata": {},
   "outputs": [],
   "source": [
    "df2= pd.read_csv(\"C:/Users/Puja Shaw/Downloads/demo_cat_data.csv\")"
   ]
  },
  {
   "cell_type": "code",
   "execution_count": 10,
   "id": "b80af459",
   "metadata": {},
   "outputs": [
    {
     "data": {
      "text/html": [
       "<div>\n",
       "<style scoped>\n",
       "    .dataframe tbody tr th:only-of-type {\n",
       "        vertical-align: middle;\n",
       "    }\n",
       "\n",
       "    .dataframe tbody tr th {\n",
       "        vertical-align: top;\n",
       "    }\n",
       "\n",
       "    .dataframe thead th {\n",
       "        text-align: right;\n",
       "    }\n",
       "</style>\n",
       "<table border=\"1\" class=\"dataframe\">\n",
       "  <thead>\n",
       "    <tr style=\"text-align: right;\">\n",
       "      <th></th>\n",
       "      <th>First Name</th>\n",
       "      <th>Last Name</th>\n",
       "      <th>Org Name</th>\n",
       "      <th>Location</th>\n",
       "      <th>Job_Role</th>\n",
       "    </tr>\n",
       "  </thead>\n",
       "  <tbody>\n",
       "    <tr>\n",
       "      <th>0</th>\n",
       "      <td>Kishan</td>\n",
       "      <td>Roy</td>\n",
       "      <td>CTS</td>\n",
       "      <td>Bangalore</td>\n",
       "      <td>MIS</td>\n",
       "    </tr>\n",
       "    <tr>\n",
       "      <th>1</th>\n",
       "      <td>Jack</td>\n",
       "      <td>Suzi</td>\n",
       "      <td>CTS_</td>\n",
       "      <td>NaN</td>\n",
       "      <td>IPC_6</td>\n",
       "    </tr>\n",
       "    <tr>\n",
       "      <th>2</th>\n",
       "      <td>Rose</td>\n",
       "      <td>Dwak</td>\n",
       "      <td>CTS.90</td>\n",
       "      <td>Bangalore</td>\n",
       "      <td>LTR;8</td>\n",
       "    </tr>\n",
       "    <tr>\n",
       "      <th>3</th>\n",
       "      <td>Sanam</td>\n",
       "      <td>Matthew</td>\n",
       "      <td>CTS</td>\n",
       "      <td>Bangalore</td>\n",
       "      <td>IPC</td>\n",
       "    </tr>\n",
       "    <tr>\n",
       "      <th>4</th>\n",
       "      <td>Jaan</td>\n",
       "      <td>David</td>\n",
       "      <td>CTS</td>\n",
       "      <td>Bangalore</td>\n",
       "      <td>MIS_45</td>\n",
       "    </tr>\n",
       "    <tr>\n",
       "      <th>5</th>\n",
       "      <td>Aneem</td>\n",
       "      <td>Roy</td>\n",
       "      <td>a0f,CTS</td>\n",
       "      <td>NaN</td>\n",
       "      <td>TIF/</td>\n",
       "    </tr>\n",
       "    <tr>\n",
       "      <th>6</th>\n",
       "      <td>Jawaed</td>\n",
       "      <td>Khan</td>\n",
       "      <td>33CTS</td>\n",
       "      <td>NaN</td>\n",
       "      <td>POV</td>\n",
       "    </tr>\n",
       "    <tr>\n",
       "      <th>7</th>\n",
       "      <td>Natasha</td>\n",
       "      <td>Agarwal</td>\n",
       "      <td>gCTS8</td>\n",
       "      <td>Bangalore</td>\n",
       "      <td>MIS</td>\n",
       "    </tr>\n",
       "  </tbody>\n",
       "</table>\n",
       "</div>"
      ],
      "text/plain": [
       "  First Name Last Name Org Name   Location Job_Role\n",
       "0     Kishan       Roy      CTS  Bangalore      MIS\n",
       "1       Jack      Suzi     CTS_        NaN    IPC_6\n",
       "2       Rose      Dwak   CTS.90  Bangalore    LTR;8\n",
       "3      Sanam   Matthew      CTS  Bangalore      IPC\n",
       "4       Jaan     David      CTS  Bangalore   MIS_45\n",
       "5      Aneem       Roy  a0f,CTS        NaN     TIF/\n",
       "6     Jawaed      Khan    33CTS        NaN      POV\n",
       "7    Natasha   Agarwal    gCTS8  Bangalore      MIS"
      ]
     },
     "execution_count": 10,
     "metadata": {},
     "output_type": "execute_result"
    }
   ],
   "source": [
    "df2"
   ]
  },
  {
   "cell_type": "code",
   "execution_count": 11,
   "id": "7f96cf65",
   "metadata": {},
   "outputs": [],
   "source": [
    "df2.loc[df2['Org Name'].str.contains('CTS', case=False), 'Organisation'] = 'CTS' # adding a column"
   ]
  },
  {
   "cell_type": "code",
   "execution_count": 12,
   "id": "77cf86f4",
   "metadata": {},
   "outputs": [
    {
     "data": {
      "text/html": [
       "<div>\n",
       "<style scoped>\n",
       "    .dataframe tbody tr th:only-of-type {\n",
       "        vertical-align: middle;\n",
       "    }\n",
       "\n",
       "    .dataframe tbody tr th {\n",
       "        vertical-align: top;\n",
       "    }\n",
       "\n",
       "    .dataframe thead th {\n",
       "        text-align: right;\n",
       "    }\n",
       "</style>\n",
       "<table border=\"1\" class=\"dataframe\">\n",
       "  <thead>\n",
       "    <tr style=\"text-align: right;\">\n",
       "      <th></th>\n",
       "      <th>First Name</th>\n",
       "      <th>Last Name</th>\n",
       "      <th>Org Name</th>\n",
       "      <th>Location</th>\n",
       "      <th>Job_Role</th>\n",
       "      <th>Organisation</th>\n",
       "    </tr>\n",
       "  </thead>\n",
       "  <tbody>\n",
       "    <tr>\n",
       "      <th>0</th>\n",
       "      <td>Kishan</td>\n",
       "      <td>Roy</td>\n",
       "      <td>CTS</td>\n",
       "      <td>Bangalore</td>\n",
       "      <td>MIS</td>\n",
       "      <td>CTS</td>\n",
       "    </tr>\n",
       "    <tr>\n",
       "      <th>1</th>\n",
       "      <td>Jack</td>\n",
       "      <td>Suzi</td>\n",
       "      <td>CTS_</td>\n",
       "      <td>NaN</td>\n",
       "      <td>IPC_6</td>\n",
       "      <td>CTS</td>\n",
       "    </tr>\n",
       "    <tr>\n",
       "      <th>2</th>\n",
       "      <td>Rose</td>\n",
       "      <td>Dwak</td>\n",
       "      <td>CTS.90</td>\n",
       "      <td>Bangalore</td>\n",
       "      <td>LTR;8</td>\n",
       "      <td>CTS</td>\n",
       "    </tr>\n",
       "    <tr>\n",
       "      <th>3</th>\n",
       "      <td>Sanam</td>\n",
       "      <td>Matthew</td>\n",
       "      <td>CTS</td>\n",
       "      <td>Bangalore</td>\n",
       "      <td>IPC</td>\n",
       "      <td>CTS</td>\n",
       "    </tr>\n",
       "    <tr>\n",
       "      <th>4</th>\n",
       "      <td>Jaan</td>\n",
       "      <td>David</td>\n",
       "      <td>CTS</td>\n",
       "      <td>Bangalore</td>\n",
       "      <td>MIS_45</td>\n",
       "      <td>CTS</td>\n",
       "    </tr>\n",
       "    <tr>\n",
       "      <th>5</th>\n",
       "      <td>Aneem</td>\n",
       "      <td>Roy</td>\n",
       "      <td>a0f,CTS</td>\n",
       "      <td>NaN</td>\n",
       "      <td>TIF/</td>\n",
       "      <td>CTS</td>\n",
       "    </tr>\n",
       "    <tr>\n",
       "      <th>6</th>\n",
       "      <td>Jawaed</td>\n",
       "      <td>Khan</td>\n",
       "      <td>33CTS</td>\n",
       "      <td>NaN</td>\n",
       "      <td>POV</td>\n",
       "      <td>CTS</td>\n",
       "    </tr>\n",
       "    <tr>\n",
       "      <th>7</th>\n",
       "      <td>Natasha</td>\n",
       "      <td>Agarwal</td>\n",
       "      <td>gCTS8</td>\n",
       "      <td>Bangalore</td>\n",
       "      <td>MIS</td>\n",
       "      <td>CTS</td>\n",
       "    </tr>\n",
       "  </tbody>\n",
       "</table>\n",
       "</div>"
      ],
      "text/plain": [
       "  First Name Last Name Org Name   Location Job_Role Organisation\n",
       "0     Kishan       Roy      CTS  Bangalore      MIS          CTS\n",
       "1       Jack      Suzi     CTS_        NaN    IPC_6          CTS\n",
       "2       Rose      Dwak   CTS.90  Bangalore    LTR;8          CTS\n",
       "3      Sanam   Matthew      CTS  Bangalore      IPC          CTS\n",
       "4       Jaan     David      CTS  Bangalore   MIS_45          CTS\n",
       "5      Aneem       Roy  a0f,CTS        NaN     TIF/          CTS\n",
       "6     Jawaed      Khan    33CTS        NaN      POV          CTS\n",
       "7    Natasha   Agarwal    gCTS8  Bangalore      MIS          CTS"
      ]
     },
     "execution_count": 12,
     "metadata": {},
     "output_type": "execute_result"
    }
   ],
   "source": [
    "df2"
   ]
  },
  {
   "cell_type": "code",
   "execution_count": 13,
   "id": "cec7a456",
   "metadata": {},
   "outputs": [],
   "source": [
    "df2= df2.drop('Org Name',axis=1) # removing the column"
   ]
  },
  {
   "cell_type": "code",
   "execution_count": 14,
   "id": "89b08cca",
   "metadata": {},
   "outputs": [
    {
     "data": {
      "text/html": [
       "<div>\n",
       "<style scoped>\n",
       "    .dataframe tbody tr th:only-of-type {\n",
       "        vertical-align: middle;\n",
       "    }\n",
       "\n",
       "    .dataframe tbody tr th {\n",
       "        vertical-align: top;\n",
       "    }\n",
       "\n",
       "    .dataframe thead th {\n",
       "        text-align: right;\n",
       "    }\n",
       "</style>\n",
       "<table border=\"1\" class=\"dataframe\">\n",
       "  <thead>\n",
       "    <tr style=\"text-align: right;\">\n",
       "      <th></th>\n",
       "      <th>First Name</th>\n",
       "      <th>Last Name</th>\n",
       "      <th>Location</th>\n",
       "      <th>Job_Role</th>\n",
       "      <th>Organisation</th>\n",
       "    </tr>\n",
       "  </thead>\n",
       "  <tbody>\n",
       "    <tr>\n",
       "      <th>0</th>\n",
       "      <td>Kishan</td>\n",
       "      <td>Roy</td>\n",
       "      <td>Bangalore</td>\n",
       "      <td>MIS</td>\n",
       "      <td>CTS</td>\n",
       "    </tr>\n",
       "    <tr>\n",
       "      <th>1</th>\n",
       "      <td>Jack</td>\n",
       "      <td>Suzi</td>\n",
       "      <td>NaN</td>\n",
       "      <td>IPC_6</td>\n",
       "      <td>CTS</td>\n",
       "    </tr>\n",
       "    <tr>\n",
       "      <th>2</th>\n",
       "      <td>Rose</td>\n",
       "      <td>Dwak</td>\n",
       "      <td>Bangalore</td>\n",
       "      <td>LTR;8</td>\n",
       "      <td>CTS</td>\n",
       "    </tr>\n",
       "    <tr>\n",
       "      <th>3</th>\n",
       "      <td>Sanam</td>\n",
       "      <td>Matthew</td>\n",
       "      <td>Bangalore</td>\n",
       "      <td>IPC</td>\n",
       "      <td>CTS</td>\n",
       "    </tr>\n",
       "    <tr>\n",
       "      <th>4</th>\n",
       "      <td>Jaan</td>\n",
       "      <td>David</td>\n",
       "      <td>Bangalore</td>\n",
       "      <td>MIS_45</td>\n",
       "      <td>CTS</td>\n",
       "    </tr>\n",
       "    <tr>\n",
       "      <th>5</th>\n",
       "      <td>Aneem</td>\n",
       "      <td>Roy</td>\n",
       "      <td>NaN</td>\n",
       "      <td>TIF/</td>\n",
       "      <td>CTS</td>\n",
       "    </tr>\n",
       "    <tr>\n",
       "      <th>6</th>\n",
       "      <td>Jawaed</td>\n",
       "      <td>Khan</td>\n",
       "      <td>NaN</td>\n",
       "      <td>POV</td>\n",
       "      <td>CTS</td>\n",
       "    </tr>\n",
       "    <tr>\n",
       "      <th>7</th>\n",
       "      <td>Natasha</td>\n",
       "      <td>Agarwal</td>\n",
       "      <td>Bangalore</td>\n",
       "      <td>MIS</td>\n",
       "      <td>CTS</td>\n",
       "    </tr>\n",
       "  </tbody>\n",
       "</table>\n",
       "</div>"
      ],
      "text/plain": [
       "  First Name Last Name   Location Job_Role Organisation\n",
       "0     Kishan       Roy  Bangalore      MIS          CTS\n",
       "1       Jack      Suzi        NaN    IPC_6          CTS\n",
       "2       Rose      Dwak  Bangalore    LTR;8          CTS\n",
       "3      Sanam   Matthew  Bangalore      IPC          CTS\n",
       "4       Jaan     David  Bangalore   MIS_45          CTS\n",
       "5      Aneem       Roy        NaN     TIF/          CTS\n",
       "6     Jawaed      Khan        NaN      POV          CTS\n",
       "7    Natasha   Agarwal  Bangalore      MIS          CTS"
      ]
     },
     "execution_count": 14,
     "metadata": {},
     "output_type": "execute_result"
    }
   ],
   "source": [
    "df2"
   ]
  },
  {
   "cell_type": "code",
   "execution_count": 15,
   "id": "31f6e072",
   "metadata": {},
   "outputs": [],
   "source": [
    "df2.Location=df2.Location.fillna('Bangalore') #Filling unknown value in location column"
   ]
  },
  {
   "cell_type": "code",
   "execution_count": 16,
   "id": "aae07cc8",
   "metadata": {},
   "outputs": [
    {
     "data": {
      "text/html": [
       "<div>\n",
       "<style scoped>\n",
       "    .dataframe tbody tr th:only-of-type {\n",
       "        vertical-align: middle;\n",
       "    }\n",
       "\n",
       "    .dataframe tbody tr th {\n",
       "        vertical-align: top;\n",
       "    }\n",
       "\n",
       "    .dataframe thead th {\n",
       "        text-align: right;\n",
       "    }\n",
       "</style>\n",
       "<table border=\"1\" class=\"dataframe\">\n",
       "  <thead>\n",
       "    <tr style=\"text-align: right;\">\n",
       "      <th></th>\n",
       "      <th>First Name</th>\n",
       "      <th>Last Name</th>\n",
       "      <th>Location</th>\n",
       "      <th>Job_Role</th>\n",
       "      <th>Organisation</th>\n",
       "    </tr>\n",
       "  </thead>\n",
       "  <tbody>\n",
       "    <tr>\n",
       "      <th>0</th>\n",
       "      <td>Kishan</td>\n",
       "      <td>Roy</td>\n",
       "      <td>Bangalore</td>\n",
       "      <td>MIS</td>\n",
       "      <td>CTS</td>\n",
       "    </tr>\n",
       "    <tr>\n",
       "      <th>1</th>\n",
       "      <td>Jack</td>\n",
       "      <td>Suzi</td>\n",
       "      <td>Bangalore</td>\n",
       "      <td>IPC_6</td>\n",
       "      <td>CTS</td>\n",
       "    </tr>\n",
       "    <tr>\n",
       "      <th>2</th>\n",
       "      <td>Rose</td>\n",
       "      <td>Dwak</td>\n",
       "      <td>Bangalore</td>\n",
       "      <td>LTR;8</td>\n",
       "      <td>CTS</td>\n",
       "    </tr>\n",
       "    <tr>\n",
       "      <th>3</th>\n",
       "      <td>Sanam</td>\n",
       "      <td>Matthew</td>\n",
       "      <td>Bangalore</td>\n",
       "      <td>IPC</td>\n",
       "      <td>CTS</td>\n",
       "    </tr>\n",
       "    <tr>\n",
       "      <th>4</th>\n",
       "      <td>Jaan</td>\n",
       "      <td>David</td>\n",
       "      <td>Bangalore</td>\n",
       "      <td>MIS_45</td>\n",
       "      <td>CTS</td>\n",
       "    </tr>\n",
       "    <tr>\n",
       "      <th>5</th>\n",
       "      <td>Aneem</td>\n",
       "      <td>Roy</td>\n",
       "      <td>Bangalore</td>\n",
       "      <td>TIF/</td>\n",
       "      <td>CTS</td>\n",
       "    </tr>\n",
       "    <tr>\n",
       "      <th>6</th>\n",
       "      <td>Jawaed</td>\n",
       "      <td>Khan</td>\n",
       "      <td>Bangalore</td>\n",
       "      <td>POV</td>\n",
       "      <td>CTS</td>\n",
       "    </tr>\n",
       "    <tr>\n",
       "      <th>7</th>\n",
       "      <td>Natasha</td>\n",
       "      <td>Agarwal</td>\n",
       "      <td>Bangalore</td>\n",
       "      <td>MIS</td>\n",
       "      <td>CTS</td>\n",
       "    </tr>\n",
       "  </tbody>\n",
       "</table>\n",
       "</div>"
      ],
      "text/plain": [
       "  First Name Last Name   Location Job_Role Organisation\n",
       "0     Kishan       Roy  Bangalore      MIS          CTS\n",
       "1       Jack      Suzi  Bangalore    IPC_6          CTS\n",
       "2       Rose      Dwak  Bangalore    LTR;8          CTS\n",
       "3      Sanam   Matthew  Bangalore      IPC          CTS\n",
       "4       Jaan     David  Bangalore   MIS_45          CTS\n",
       "5      Aneem       Roy  Bangalore     TIF/          CTS\n",
       "6     Jawaed      Khan  Bangalore      POV          CTS\n",
       "7    Natasha   Agarwal  Bangalore      MIS          CTS"
      ]
     },
     "execution_count": 16,
     "metadata": {},
     "output_type": "execute_result"
    }
   ],
   "source": [
    "df2"
   ]
  },
  {
   "cell_type": "code",
   "execution_count": 17,
   "id": "50842c4b",
   "metadata": {},
   "outputs": [],
   "source": [
    "df2['Designation'] = df2['Job_Role'].str.slice(0,3)  #adding a column & removing the improper value"
   ]
  },
  {
   "cell_type": "code",
   "execution_count": 18,
   "id": "ffa3aac1",
   "metadata": {},
   "outputs": [
    {
     "data": {
      "text/html": [
       "<div>\n",
       "<style scoped>\n",
       "    .dataframe tbody tr th:only-of-type {\n",
       "        vertical-align: middle;\n",
       "    }\n",
       "\n",
       "    .dataframe tbody tr th {\n",
       "        vertical-align: top;\n",
       "    }\n",
       "\n",
       "    .dataframe thead th {\n",
       "        text-align: right;\n",
       "    }\n",
       "</style>\n",
       "<table border=\"1\" class=\"dataframe\">\n",
       "  <thead>\n",
       "    <tr style=\"text-align: right;\">\n",
       "      <th></th>\n",
       "      <th>First Name</th>\n",
       "      <th>Last Name</th>\n",
       "      <th>Location</th>\n",
       "      <th>Job_Role</th>\n",
       "      <th>Organisation</th>\n",
       "      <th>Designation</th>\n",
       "    </tr>\n",
       "  </thead>\n",
       "  <tbody>\n",
       "    <tr>\n",
       "      <th>0</th>\n",
       "      <td>Kishan</td>\n",
       "      <td>Roy</td>\n",
       "      <td>Bangalore</td>\n",
       "      <td>MIS</td>\n",
       "      <td>CTS</td>\n",
       "      <td>MIS</td>\n",
       "    </tr>\n",
       "    <tr>\n",
       "      <th>1</th>\n",
       "      <td>Jack</td>\n",
       "      <td>Suzi</td>\n",
       "      <td>Bangalore</td>\n",
       "      <td>IPC_6</td>\n",
       "      <td>CTS</td>\n",
       "      <td>IPC</td>\n",
       "    </tr>\n",
       "    <tr>\n",
       "      <th>2</th>\n",
       "      <td>Rose</td>\n",
       "      <td>Dwak</td>\n",
       "      <td>Bangalore</td>\n",
       "      <td>LTR;8</td>\n",
       "      <td>CTS</td>\n",
       "      <td>LTR</td>\n",
       "    </tr>\n",
       "    <tr>\n",
       "      <th>3</th>\n",
       "      <td>Sanam</td>\n",
       "      <td>Matthew</td>\n",
       "      <td>Bangalore</td>\n",
       "      <td>IPC</td>\n",
       "      <td>CTS</td>\n",
       "      <td>IPC</td>\n",
       "    </tr>\n",
       "    <tr>\n",
       "      <th>4</th>\n",
       "      <td>Jaan</td>\n",
       "      <td>David</td>\n",
       "      <td>Bangalore</td>\n",
       "      <td>MIS_45</td>\n",
       "      <td>CTS</td>\n",
       "      <td>MIS</td>\n",
       "    </tr>\n",
       "    <tr>\n",
       "      <th>5</th>\n",
       "      <td>Aneem</td>\n",
       "      <td>Roy</td>\n",
       "      <td>Bangalore</td>\n",
       "      <td>TIF/</td>\n",
       "      <td>CTS</td>\n",
       "      <td>TIF</td>\n",
       "    </tr>\n",
       "    <tr>\n",
       "      <th>6</th>\n",
       "      <td>Jawaed</td>\n",
       "      <td>Khan</td>\n",
       "      <td>Bangalore</td>\n",
       "      <td>POV</td>\n",
       "      <td>CTS</td>\n",
       "      <td>POV</td>\n",
       "    </tr>\n",
       "    <tr>\n",
       "      <th>7</th>\n",
       "      <td>Natasha</td>\n",
       "      <td>Agarwal</td>\n",
       "      <td>Bangalore</td>\n",
       "      <td>MIS</td>\n",
       "      <td>CTS</td>\n",
       "      <td>MIS</td>\n",
       "    </tr>\n",
       "  </tbody>\n",
       "</table>\n",
       "</div>"
      ],
      "text/plain": [
       "  First Name Last Name   Location Job_Role Organisation Designation\n",
       "0     Kishan       Roy  Bangalore      MIS          CTS         MIS\n",
       "1       Jack      Suzi  Bangalore    IPC_6          CTS         IPC\n",
       "2       Rose      Dwak  Bangalore    LTR;8          CTS         LTR\n",
       "3      Sanam   Matthew  Bangalore      IPC          CTS         IPC\n",
       "4       Jaan     David  Bangalore   MIS_45          CTS         MIS\n",
       "5      Aneem       Roy  Bangalore     TIF/          CTS         TIF\n",
       "6     Jawaed      Khan  Bangalore      POV          CTS         POV\n",
       "7    Natasha   Agarwal  Bangalore      MIS          CTS         MIS"
      ]
     },
     "execution_count": 18,
     "metadata": {},
     "output_type": "execute_result"
    }
   ],
   "source": [
    "df2"
   ]
  },
  {
   "cell_type": "code",
   "execution_count": 19,
   "id": "a7fa721c",
   "metadata": {},
   "outputs": [],
   "source": [
    "df2 = df2.drop('Job_Role',axis=1)"
   ]
  },
  {
   "cell_type": "code",
   "execution_count": 20,
   "id": "f83649d8",
   "metadata": {},
   "outputs": [
    {
     "data": {
      "text/html": [
       "<div>\n",
       "<style scoped>\n",
       "    .dataframe tbody tr th:only-of-type {\n",
       "        vertical-align: middle;\n",
       "    }\n",
       "\n",
       "    .dataframe tbody tr th {\n",
       "        vertical-align: top;\n",
       "    }\n",
       "\n",
       "    .dataframe thead th {\n",
       "        text-align: right;\n",
       "    }\n",
       "</style>\n",
       "<table border=\"1\" class=\"dataframe\">\n",
       "  <thead>\n",
       "    <tr style=\"text-align: right;\">\n",
       "      <th></th>\n",
       "      <th>First Name</th>\n",
       "      <th>Last Name</th>\n",
       "      <th>Location</th>\n",
       "      <th>Organisation</th>\n",
       "      <th>Designation</th>\n",
       "    </tr>\n",
       "  </thead>\n",
       "  <tbody>\n",
       "    <tr>\n",
       "      <th>0</th>\n",
       "      <td>Kishan</td>\n",
       "      <td>Roy</td>\n",
       "      <td>Bangalore</td>\n",
       "      <td>CTS</td>\n",
       "      <td>MIS</td>\n",
       "    </tr>\n",
       "    <tr>\n",
       "      <th>1</th>\n",
       "      <td>Jack</td>\n",
       "      <td>Suzi</td>\n",
       "      <td>Bangalore</td>\n",
       "      <td>CTS</td>\n",
       "      <td>IPC</td>\n",
       "    </tr>\n",
       "    <tr>\n",
       "      <th>2</th>\n",
       "      <td>Rose</td>\n",
       "      <td>Dwak</td>\n",
       "      <td>Bangalore</td>\n",
       "      <td>CTS</td>\n",
       "      <td>LTR</td>\n",
       "    </tr>\n",
       "    <tr>\n",
       "      <th>3</th>\n",
       "      <td>Sanam</td>\n",
       "      <td>Matthew</td>\n",
       "      <td>Bangalore</td>\n",
       "      <td>CTS</td>\n",
       "      <td>IPC</td>\n",
       "    </tr>\n",
       "    <tr>\n",
       "      <th>4</th>\n",
       "      <td>Jaan</td>\n",
       "      <td>David</td>\n",
       "      <td>Bangalore</td>\n",
       "      <td>CTS</td>\n",
       "      <td>MIS</td>\n",
       "    </tr>\n",
       "    <tr>\n",
       "      <th>5</th>\n",
       "      <td>Aneem</td>\n",
       "      <td>Roy</td>\n",
       "      <td>Bangalore</td>\n",
       "      <td>CTS</td>\n",
       "      <td>TIF</td>\n",
       "    </tr>\n",
       "    <tr>\n",
       "      <th>6</th>\n",
       "      <td>Jawaed</td>\n",
       "      <td>Khan</td>\n",
       "      <td>Bangalore</td>\n",
       "      <td>CTS</td>\n",
       "      <td>POV</td>\n",
       "    </tr>\n",
       "    <tr>\n",
       "      <th>7</th>\n",
       "      <td>Natasha</td>\n",
       "      <td>Agarwal</td>\n",
       "      <td>Bangalore</td>\n",
       "      <td>CTS</td>\n",
       "      <td>MIS</td>\n",
       "    </tr>\n",
       "  </tbody>\n",
       "</table>\n",
       "</div>"
      ],
      "text/plain": [
       "  First Name Last Name   Location Organisation Designation\n",
       "0     Kishan       Roy  Bangalore          CTS         MIS\n",
       "1       Jack      Suzi  Bangalore          CTS         IPC\n",
       "2       Rose      Dwak  Bangalore          CTS         LTR\n",
       "3      Sanam   Matthew  Bangalore          CTS         IPC\n",
       "4       Jaan     David  Bangalore          CTS         MIS\n",
       "5      Aneem       Roy  Bangalore          CTS         TIF\n",
       "6     Jawaed      Khan  Bangalore          CTS         POV\n",
       "7    Natasha   Agarwal  Bangalore          CTS         MIS"
      ]
     },
     "execution_count": 20,
     "metadata": {},
     "output_type": "execute_result"
    }
   ],
   "source": [
    "df2"
   ]
  },
  {
   "cell_type": "markdown",
   "id": "f54e4969",
   "metadata": {},
   "source": [
    "**Outlier Detection And Removal Techniques:**"
   ]
  },
  {
   "cell_type": "markdown",
   "id": "ec8f1530",
   "metadata": {},
   "source": [
    "Those are :-\n",
    "\n",
    "    -Using Box-Plot\n",
    "    -Using Percentile Method\n",
    "    -Using IQR\n",
    "    -Using Standard Deviation\n",
    "    -Using Z-Score"
   ]
  },
  {
   "cell_type": "markdown",
   "id": "1d374432",
   "metadata": {},
   "source": [
    "**Percentile Method**\n",
    "\n",
    "In this method the highest and lowest possible percentile in assumed. This is generally more than 95% and less than 5% in most scenarios.Then the datapoints beyond or below these percentiles are detected as outliers and are removed accordingly."
   ]
  },
  {
   "cell_type": "code",
   "execution_count": 21,
   "id": "54abd6eb",
   "metadata": {},
   "outputs": [],
   "source": [
    "data = pd.read_csv(\"C:/Users/Puja Shaw/Downloads/data_cleaning_outlier_removal.csv\")"
   ]
  },
  {
   "cell_type": "code",
   "execution_count": 22,
   "id": "613c0441",
   "metadata": {},
   "outputs": [
    {
     "data": {
      "text/html": [
       "<div>\n",
       "<style scoped>\n",
       "    .dataframe tbody tr th:only-of-type {\n",
       "        vertical-align: middle;\n",
       "    }\n",
       "\n",
       "    .dataframe tbody tr th {\n",
       "        vertical-align: top;\n",
       "    }\n",
       "\n",
       "    .dataframe thead th {\n",
       "        text-align: right;\n",
       "    }\n",
       "</style>\n",
       "<table border=\"1\" class=\"dataframe\">\n",
       "  <thead>\n",
       "    <tr style=\"text-align: right;\">\n",
       "      <th></th>\n",
       "      <th>Location</th>\n",
       "      <th>Date</th>\n",
       "      <th>Value_lacs</th>\n",
       "      <th>Sold</th>\n",
       "    </tr>\n",
       "  </thead>\n",
       "  <tbody>\n",
       "    <tr>\n",
       "      <th>0</th>\n",
       "      <td>India</td>\n",
       "      <td>21-09-2021</td>\n",
       "      <td>123</td>\n",
       "      <td>Yes</td>\n",
       "    </tr>\n",
       "    <tr>\n",
       "      <th>1</th>\n",
       "      <td>India</td>\n",
       "      <td>22-08-2021</td>\n",
       "      <td>49</td>\n",
       "      <td>Yes</td>\n",
       "    </tr>\n",
       "    <tr>\n",
       "      <th>2</th>\n",
       "      <td>India</td>\n",
       "      <td>16-09-2021</td>\n",
       "      <td>36</td>\n",
       "      <td>Yes</td>\n",
       "    </tr>\n",
       "    <tr>\n",
       "      <th>3</th>\n",
       "      <td>India</td>\n",
       "      <td>24-10-2021</td>\n",
       "      <td>9</td>\n",
       "      <td>No</td>\n",
       "    </tr>\n",
       "    <tr>\n",
       "      <th>4</th>\n",
       "      <td>India</td>\n",
       "      <td>05-06-2021</td>\n",
       "      <td>45</td>\n",
       "      <td>Yes</td>\n",
       "    </tr>\n",
       "  </tbody>\n",
       "</table>\n",
       "</div>"
      ],
      "text/plain": [
       "  Location        Date  Value_lacs Sold\n",
       "0    India  21-09-2021         123  Yes\n",
       "1    India  22-08-2021          49  Yes\n",
       "2    India  16-09-2021          36  Yes\n",
       "3    India  24-10-2021           9   No\n",
       "4    India  05-06-2021          45  Yes"
      ]
     },
     "execution_count": 22,
     "metadata": {},
     "output_type": "execute_result"
    }
   ],
   "source": [
    "data.head()"
   ]
  },
  {
   "cell_type": "code",
   "execution_count": 23,
   "id": "b37dbcd5",
   "metadata": {},
   "outputs": [
    {
     "data": {
      "text/plain": [
       "count      8.000000\n",
       "mean      49.875000\n",
       "std       35.312634\n",
       "min        9.000000\n",
       "25%       33.250000\n",
       "50%       40.500000\n",
       "75%       55.750000\n",
       "max      123.000000\n",
       "Name: Value_lacs, dtype: float64"
      ]
     },
     "execution_count": 23,
     "metadata": {},
     "output_type": "execute_result"
    }
   ],
   "source": [
    "data.Value_lacs.describe()"
   ]
  },
  {
   "cell_type": "code",
   "execution_count": 24,
   "id": "081309cc",
   "metadata": {},
   "outputs": [
    {
     "data": {
      "text/plain": [
       "(9.56, 121.35499999999999)"
      ]
     },
     "execution_count": 24,
     "metadata": {},
     "output_type": "execute_result"
    }
   ],
   "source": [
    "lower_limit, upper_limit = data.Value_lacs.quantile([0.005,0.995])  \n",
    "lower_limit, upper_limit\n",
    "\n",
    "#lets set the maximum considered percentile to be 99.5% and minimum to be 0.5%"
   ]
  },
  {
   "cell_type": "code",
   "execution_count": 25,
   "id": "7d9145af",
   "metadata": {},
   "outputs": [
    {
     "data": {
      "text/html": [
       "<div>\n",
       "<style scoped>\n",
       "    .dataframe tbody tr th:only-of-type {\n",
       "        vertical-align: middle;\n",
       "    }\n",
       "\n",
       "    .dataframe tbody tr th {\n",
       "        vertical-align: top;\n",
       "    }\n",
       "\n",
       "    .dataframe thead th {\n",
       "        text-align: right;\n",
       "    }\n",
       "</style>\n",
       "<table border=\"1\" class=\"dataframe\">\n",
       "  <thead>\n",
       "    <tr style=\"text-align: right;\">\n",
       "      <th></th>\n",
       "      <th>Location</th>\n",
       "      <th>Date</th>\n",
       "      <th>Value_lacs</th>\n",
       "      <th>Sold</th>\n",
       "    </tr>\n",
       "  </thead>\n",
       "  <tbody>\n",
       "    <tr>\n",
       "      <th>0</th>\n",
       "      <td>India</td>\n",
       "      <td>21-09-2021</td>\n",
       "      <td>123</td>\n",
       "      <td>Yes</td>\n",
       "    </tr>\n",
       "    <tr>\n",
       "      <th>3</th>\n",
       "      <td>India</td>\n",
       "      <td>24-10-2021</td>\n",
       "      <td>9</td>\n",
       "      <td>No</td>\n",
       "    </tr>\n",
       "  </tbody>\n",
       "</table>\n",
       "</div>"
      ],
      "text/plain": [
       "  Location        Date  Value_lacs Sold\n",
       "0    India  21-09-2021         123  Yes\n",
       "3    India  24-10-2021           9   No"
      ]
     },
     "execution_count": 25,
     "metadata": {},
     "output_type": "execute_result"
    }
   ],
   "source": [
    "outliers = data[(data.Value_lacs>upper_limit) | (data.Value_lacs<lower_limit)]\n",
    "outliers\n",
    "\n",
    "#lets check the outlier values we have in out dataset(using Or operator)"
   ]
  },
  {
   "cell_type": "code",
   "execution_count": 26,
   "id": "42b0f63a",
   "metadata": {},
   "outputs": [],
   "source": [
    "data2 = data[(data.Value_lacs<upper_limit) & (data.Value_lacs>lower_limit)]\n",
    "\n",
    "#lets remove the outliers and take out our outlier free dataset (using And operator)"
   ]
  },
  {
   "cell_type": "code",
   "execution_count": 27,
   "id": "aee39157",
   "metadata": {},
   "outputs": [
    {
     "data": {
      "text/html": [
       "<div>\n",
       "<style scoped>\n",
       "    .dataframe tbody tr th:only-of-type {\n",
       "        vertical-align: middle;\n",
       "    }\n",
       "\n",
       "    .dataframe tbody tr th {\n",
       "        vertical-align: top;\n",
       "    }\n",
       "\n",
       "    .dataframe thead th {\n",
       "        text-align: right;\n",
       "    }\n",
       "</style>\n",
       "<table border=\"1\" class=\"dataframe\">\n",
       "  <thead>\n",
       "    <tr style=\"text-align: right;\">\n",
       "      <th></th>\n",
       "      <th>Location</th>\n",
       "      <th>Date</th>\n",
       "      <th>Value_lacs</th>\n",
       "      <th>Sold</th>\n",
       "    </tr>\n",
       "  </thead>\n",
       "  <tbody>\n",
       "    <tr>\n",
       "      <th>1</th>\n",
       "      <td>India</td>\n",
       "      <td>22-08-2021</td>\n",
       "      <td>49</td>\n",
       "      <td>Yes</td>\n",
       "    </tr>\n",
       "    <tr>\n",
       "      <th>2</th>\n",
       "      <td>India</td>\n",
       "      <td>16-09-2021</td>\n",
       "      <td>36</td>\n",
       "      <td>Yes</td>\n",
       "    </tr>\n",
       "    <tr>\n",
       "      <th>4</th>\n",
       "      <td>India</td>\n",
       "      <td>05-06-2021</td>\n",
       "      <td>45</td>\n",
       "      <td>Yes</td>\n",
       "    </tr>\n",
       "    <tr>\n",
       "      <th>5</th>\n",
       "      <td>India</td>\n",
       "      <td>26-11-2021</td>\n",
       "      <td>36</td>\n",
       "      <td>No</td>\n",
       "    </tr>\n",
       "    <tr>\n",
       "      <th>6</th>\n",
       "      <td>India</td>\n",
       "      <td>07-11-2021</td>\n",
       "      <td>25</td>\n",
       "      <td>Yes</td>\n",
       "    </tr>\n",
       "    <tr>\n",
       "      <th>7</th>\n",
       "      <td>India</td>\n",
       "      <td>28-12-2021</td>\n",
       "      <td>76</td>\n",
       "      <td>Yes</td>\n",
       "    </tr>\n",
       "  </tbody>\n",
       "</table>\n",
       "</div>"
      ],
      "text/plain": [
       "  Location        Date  Value_lacs Sold\n",
       "1    India  22-08-2021          49  Yes\n",
       "2    India  16-09-2021          36  Yes\n",
       "4    India  05-06-2021          45  Yes\n",
       "5    India  26-11-2021          36   No\n",
       "6    India  07-11-2021          25  Yes\n",
       "7    India  28-12-2021          76  Yes"
      ]
     },
     "execution_count": 27,
     "metadata": {},
     "output_type": "execute_result"
    }
   ],
   "source": [
    "data2"
   ]
  },
  {
   "cell_type": "markdown",
   "id": "404d7c1a",
   "metadata": {},
   "source": [
    "**IQR Method**"
   ]
  },
  {
   "cell_type": "code",
   "execution_count": 28,
   "id": "c8de431f",
   "metadata": {},
   "outputs": [],
   "source": [
    "Q1 = data.Value_lacs.quantile(0.25)\n",
    "Q3 = data.Value_lacs.quantile(0.75)\n",
    "\n",
    "#lets get the 1st quartile(Q1) and 3rd quartile(Q3) from our Value_lacs column"
   ]
  },
  {
   "cell_type": "code",
   "execution_count": 29,
   "id": "f4740452",
   "metadata": {},
   "outputs": [
    {
     "data": {
      "text/plain": [
       "(33.25, 55.75)"
      ]
     },
     "execution_count": 29,
     "metadata": {},
     "output_type": "execute_result"
    }
   ],
   "source": [
    "Q1,Q3"
   ]
  },
  {
   "cell_type": "code",
   "execution_count": 30,
   "id": "5d720996",
   "metadata": {},
   "outputs": [
    {
     "data": {
      "text/plain": [
       "22.5"
      ]
     },
     "execution_count": 30,
     "metadata": {},
     "output_type": "execute_result"
    }
   ],
   "source": [
    "IQR = Q3-Q1  #lets find the IQR (Inter Quartile Range)\n",
    "\n",
    "IQR"
   ]
  },
  {
   "cell_type": "code",
   "execution_count": 31,
   "id": "9954333d",
   "metadata": {},
   "outputs": [
    {
     "data": {
      "text/plain": [
       "(-0.5, 89.5)"
      ]
     },
     "execution_count": 31,
     "metadata": {},
     "output_type": "execute_result"
    }
   ],
   "source": [
    "lower_limit = Q1 - 1.5*IQR\n",
    "upper_limit = Q3 + 1.5*IQR\n",
    "lower_limit,upper_limit\n",
    "\n",
    "#lets calculate the upper and lower limit to be considered for outlier removal"
   ]
  },
  {
   "cell_type": "code",
   "execution_count": 32,
   "id": "1dc6b788",
   "metadata": {},
   "outputs": [
    {
     "data": {
      "text/html": [
       "<div>\n",
       "<style scoped>\n",
       "    .dataframe tbody tr th:only-of-type {\n",
       "        vertical-align: middle;\n",
       "    }\n",
       "\n",
       "    .dataframe tbody tr th {\n",
       "        vertical-align: top;\n",
       "    }\n",
       "\n",
       "    .dataframe thead th {\n",
       "        text-align: right;\n",
       "    }\n",
       "</style>\n",
       "<table border=\"1\" class=\"dataframe\">\n",
       "  <thead>\n",
       "    <tr style=\"text-align: right;\">\n",
       "      <th></th>\n",
       "      <th>Location</th>\n",
       "      <th>Date</th>\n",
       "      <th>Value_lacs</th>\n",
       "      <th>Sold</th>\n",
       "    </tr>\n",
       "  </thead>\n",
       "  <tbody>\n",
       "    <tr>\n",
       "      <th>0</th>\n",
       "      <td>India</td>\n",
       "      <td>21-09-2021</td>\n",
       "      <td>123</td>\n",
       "      <td>Yes</td>\n",
       "    </tr>\n",
       "  </tbody>\n",
       "</table>\n",
       "</div>"
      ],
      "text/plain": [
       "  Location        Date  Value_lacs Sold\n",
       "0    India  21-09-2021         123  Yes"
      ]
     },
     "execution_count": 32,
     "metadata": {},
     "output_type": "execute_result"
    }
   ],
   "source": [
    "data[(data.Value_lacs<lower_limit)|(data.Value_lacs>upper_limit)] #lets check the rows having outliers"
   ]
  },
  {
   "cell_type": "code",
   "execution_count": 33,
   "id": "b418fcb1",
   "metadata": {},
   "outputs": [
    {
     "data": {
      "text/html": [
       "<div>\n",
       "<style scoped>\n",
       "    .dataframe tbody tr th:only-of-type {\n",
       "        vertical-align: middle;\n",
       "    }\n",
       "\n",
       "    .dataframe tbody tr th {\n",
       "        vertical-align: top;\n",
       "    }\n",
       "\n",
       "    .dataframe thead th {\n",
       "        text-align: right;\n",
       "    }\n",
       "</style>\n",
       "<table border=\"1\" class=\"dataframe\">\n",
       "  <thead>\n",
       "    <tr style=\"text-align: right;\">\n",
       "      <th></th>\n",
       "      <th>Location</th>\n",
       "      <th>Date</th>\n",
       "      <th>Value_lacs</th>\n",
       "      <th>Sold</th>\n",
       "    </tr>\n",
       "  </thead>\n",
       "  <tbody>\n",
       "    <tr>\n",
       "      <th>1</th>\n",
       "      <td>India</td>\n",
       "      <td>22-08-2021</td>\n",
       "      <td>49</td>\n",
       "      <td>Yes</td>\n",
       "    </tr>\n",
       "    <tr>\n",
       "      <th>2</th>\n",
       "      <td>India</td>\n",
       "      <td>16-09-2021</td>\n",
       "      <td>36</td>\n",
       "      <td>Yes</td>\n",
       "    </tr>\n",
       "    <tr>\n",
       "      <th>3</th>\n",
       "      <td>India</td>\n",
       "      <td>24-10-2021</td>\n",
       "      <td>9</td>\n",
       "      <td>No</td>\n",
       "    </tr>\n",
       "    <tr>\n",
       "      <th>4</th>\n",
       "      <td>India</td>\n",
       "      <td>05-06-2021</td>\n",
       "      <td>45</td>\n",
       "      <td>Yes</td>\n",
       "    </tr>\n",
       "    <tr>\n",
       "      <th>5</th>\n",
       "      <td>India</td>\n",
       "      <td>26-11-2021</td>\n",
       "      <td>36</td>\n",
       "      <td>No</td>\n",
       "    </tr>\n",
       "    <tr>\n",
       "      <th>6</th>\n",
       "      <td>India</td>\n",
       "      <td>07-11-2021</td>\n",
       "      <td>25</td>\n",
       "      <td>Yes</td>\n",
       "    </tr>\n",
       "    <tr>\n",
       "      <th>7</th>\n",
       "      <td>India</td>\n",
       "      <td>28-12-2021</td>\n",
       "      <td>76</td>\n",
       "      <td>Yes</td>\n",
       "    </tr>\n",
       "  </tbody>\n",
       "</table>\n",
       "</div>"
      ],
      "text/plain": [
       "  Location        Date  Value_lacs Sold\n",
       "1    India  22-08-2021          49  Yes\n",
       "2    India  16-09-2021          36  Yes\n",
       "3    India  24-10-2021           9   No\n",
       "4    India  05-06-2021          45  Yes\n",
       "5    India  26-11-2021          36   No\n",
       "6    India  07-11-2021          25  Yes\n",
       "7    India  28-12-2021          76  Yes"
      ]
     },
     "execution_count": 33,
     "metadata": {},
     "output_type": "execute_result"
    }
   ],
   "source": [
    "data3 = data[(data.Value_lacs>lower_limit)&(data.Value_lacs<upper_limit)] #removing outlier and taking final dataset\n",
    "data3"
   ]
  },
  {
   "cell_type": "markdown",
   "id": "e73e018a",
   "metadata": {},
   "source": [
    "**Standard Deviation Method**"
   ]
  },
  {
   "cell_type": "code",
   "execution_count": 34,
   "id": "99d58103",
   "metadata": {},
   "outputs": [
    {
     "data": {
      "image/png": "[encoded data removed]",
      "text/plain": [
       "<Figure size 432x288 with 1 Axes>"
      ]
     },
     "metadata": {
      "needs_background": "light"
     },
     "output_type": "display_data"
    }
   ],
   "source": [
    "plt.hist(data.Value_lacs, bins=20, rwidth=0.8)\n",
    "plt.xlabel('Value in Lacs')\n",
    "plt.ylabel('Count')\n",
    "plt.show()\n",
    "\n",
    "#lets check the distribution of the Value_lacs column"
   ]
  },
  {
   "cell_type": "code",
   "execution_count": 35,
   "id": "b077022d",
   "metadata": {},
   "outputs": [
    {
     "data": {
      "text/plain": [
       "(120.50026864677098, -20.750268646770976)"
      ]
     },
     "execution_count": 35,
     "metadata": {},
     "output_type": "execute_result"
    }
   ],
   "source": [
    "upper_limit = data.Value_lacs.mean() + 2*data.Value_lacs.std()\n",
    "lower_limit = data.Value_lacs.mean() - 2*data.Value_lacs.std()\n",
    "\n",
    "upper_limit,lower_limit\n",
    "\n",
    "#lets consider 3 standard deviation for outlier detection"
   ]
  },
  {
   "cell_type": "code",
   "execution_count": 52,
   "id": "fbc76a87",
   "metadata": {},
   "outputs": [
    {
     "data": {
      "text/html": [
       "<div>\n",
       "<style scoped>\n",
       "    .dataframe tbody tr th:only-of-type {\n",
       "        vertical-align: middle;\n",
       "    }\n",
       "\n",
       "    .dataframe tbody tr th {\n",
       "        vertical-align: top;\n",
       "    }\n",
       "\n",
       "    .dataframe thead th {\n",
       "        text-align: right;\n",
       "    }\n",
       "</style>\n",
       "<table border=\"1\" class=\"dataframe\">\n",
       "  <thead>\n",
       "    <tr style=\"text-align: right;\">\n",
       "      <th></th>\n",
       "      <th>Location</th>\n",
       "      <th>Date</th>\n",
       "      <th>Value_lacs</th>\n",
       "      <th>Sold</th>\n",
       "      <th>zscore</th>\n",
       "    </tr>\n",
       "  </thead>\n",
       "  <tbody>\n",
       "    <tr>\n",
       "      <th>0</th>\n",
       "      <td>India</td>\n",
       "      <td>21-09-2021</td>\n",
       "      <td>123</td>\n",
       "      <td>Yes</td>\n",
       "      <td>2.070789</td>\n",
       "    </tr>\n",
       "  </tbody>\n",
       "</table>\n",
       "</div>"
      ],
      "text/plain": [
       "  Location        Date  Value_lacs Sold    zscore\n",
       "0    India  21-09-2021         123  Yes  2.070789"
      ]
     },
     "execution_count": 52,
     "metadata": {},
     "output_type": "execute_result"
    }
   ],
   "source": [
    "data[(data.Value_lacs>upper_limit) | (data.Value_lacs<lower_limit)] #lets check the rows having value beyond 2 std"
   ]
  },
  {
   "cell_type": "code",
   "execution_count": 53,
   "id": "529fc67a",
   "metadata": {},
   "outputs": [
    {
     "data": {
      "text/html": [
       "<div>\n",
       "<style scoped>\n",
       "    .dataframe tbody tr th:only-of-type {\n",
       "        vertical-align: middle;\n",
       "    }\n",
       "\n",
       "    .dataframe tbody tr th {\n",
       "        vertical-align: top;\n",
       "    }\n",
       "\n",
       "    .dataframe thead th {\n",
       "        text-align: right;\n",
       "    }\n",
       "</style>\n",
       "<table border=\"1\" class=\"dataframe\">\n",
       "  <thead>\n",
       "    <tr style=\"text-align: right;\">\n",
       "      <th></th>\n",
       "      <th>Location</th>\n",
       "      <th>Date</th>\n",
       "      <th>Value_lacs</th>\n",
       "      <th>Sold</th>\n",
       "      <th>zscore</th>\n",
       "    </tr>\n",
       "  </thead>\n",
       "  <tbody>\n",
       "    <tr>\n",
       "      <th>1</th>\n",
       "      <td>India</td>\n",
       "      <td>22-08-2021</td>\n",
       "      <td>49</td>\n",
       "      <td>Yes</td>\n",
       "      <td>-0.024779</td>\n",
       "    </tr>\n",
       "    <tr>\n",
       "      <th>2</th>\n",
       "      <td>India</td>\n",
       "      <td>16-09-2021</td>\n",
       "      <td>36</td>\n",
       "      <td>Yes</td>\n",
       "      <td>-0.392919</td>\n",
       "    </tr>\n",
       "    <tr>\n",
       "      <th>3</th>\n",
       "      <td>India</td>\n",
       "      <td>24-10-2021</td>\n",
       "      <td>9</td>\n",
       "      <td>No</td>\n",
       "      <td>-1.157518</td>\n",
       "    </tr>\n",
       "    <tr>\n",
       "      <th>4</th>\n",
       "      <td>India</td>\n",
       "      <td>05-06-2021</td>\n",
       "      <td>45</td>\n",
       "      <td>Yes</td>\n",
       "      <td>-0.138053</td>\n",
       "    </tr>\n",
       "    <tr>\n",
       "      <th>5</th>\n",
       "      <td>India</td>\n",
       "      <td>26-11-2021</td>\n",
       "      <td>36</td>\n",
       "      <td>No</td>\n",
       "      <td>-0.392919</td>\n",
       "    </tr>\n",
       "    <tr>\n",
       "      <th>6</th>\n",
       "      <td>India</td>\n",
       "      <td>07-11-2021</td>\n",
       "      <td>25</td>\n",
       "      <td>Yes</td>\n",
       "      <td>-0.704422</td>\n",
       "    </tr>\n",
       "    <tr>\n",
       "      <th>7</th>\n",
       "      <td>India</td>\n",
       "      <td>28-12-2021</td>\n",
       "      <td>76</td>\n",
       "      <td>Yes</td>\n",
       "      <td>0.739820</td>\n",
       "    </tr>\n",
       "  </tbody>\n",
       "</table>\n",
       "</div>"
      ],
      "text/plain": [
       "  Location        Date  Value_lacs Sold    zscore\n",
       "1    India  22-08-2021          49  Yes -0.024779\n",
       "2    India  16-09-2021          36  Yes -0.392919\n",
       "3    India  24-10-2021           9   No -1.157518\n",
       "4    India  05-06-2021          45  Yes -0.138053\n",
       "5    India  26-11-2021          36   No -0.392919\n",
       "6    India  07-11-2021          25  Yes -0.704422\n",
       "7    India  28-12-2021          76  Yes  0.739820"
      ]
     },
     "execution_count": 53,
     "metadata": {},
     "output_type": "execute_result"
    }
   ],
   "source": [
    "data_no_outlier_std_dev = data[(data.Value_lacs<upper_limit) & (data.Value_lacs>lower_limit)]\n",
    "\n",
    "data_no_outlier_std_dev\n",
    "\n",
    "#lets clean the outlier and get the clean dataset"
   ]
  },
  {
   "cell_type": "markdown",
   "id": "39428b49",
   "metadata": {},
   "source": [
    "**Z-Score Method:**"
   ]
  },
  {
   "cell_type": "markdown",
   "id": "d3667ba3",
   "metadata": {},
   "source": [
    "* Z score is a way to achieve same thing that we did above using \"Standard Deviation\".\n",
    "* Z Score Indicates how many standard deviation away a data point is.\n",
    "       \n",
    "          Z=X-mean(u)/standard deviation\n"
   ]
  },
  {
   "cell_type": "code",
   "execution_count": 54,
   "id": "587139e5",
   "metadata": {},
   "outputs": [],
   "source": [
    "data['zscore'] = (data.Value_lacs - data.Value_lacs.mean() ) / data.Value_lacs.std() #lets calculate zscore of value_lacs column"
   ]
  },
  {
   "cell_type": "code",
   "execution_count": 55,
   "id": "8c9a625b",
   "metadata": {},
   "outputs": [
    {
     "data": {
      "text/html": [
       "<div>\n",
       "<style scoped>\n",
       "    .dataframe tbody tr th:only-of-type {\n",
       "        vertical-align: middle;\n",
       "    }\n",
       "\n",
       "    .dataframe tbody tr th {\n",
       "        vertical-align: top;\n",
       "    }\n",
       "\n",
       "    .dataframe thead th {\n",
       "        text-align: right;\n",
       "    }\n",
       "</style>\n",
       "<table border=\"1\" class=\"dataframe\">\n",
       "  <thead>\n",
       "    <tr style=\"text-align: right;\">\n",
       "      <th></th>\n",
       "      <th>Location</th>\n",
       "      <th>Date</th>\n",
       "      <th>Value_lacs</th>\n",
       "      <th>Sold</th>\n",
       "      <th>zscore</th>\n",
       "    </tr>\n",
       "  </thead>\n",
       "  <tbody>\n",
       "    <tr>\n",
       "      <th>0</th>\n",
       "      <td>India</td>\n",
       "      <td>21-09-2021</td>\n",
       "      <td>123</td>\n",
       "      <td>Yes</td>\n",
       "      <td>2.070789</td>\n",
       "    </tr>\n",
       "    <tr>\n",
       "      <th>1</th>\n",
       "      <td>India</td>\n",
       "      <td>22-08-2021</td>\n",
       "      <td>49</td>\n",
       "      <td>Yes</td>\n",
       "      <td>-0.024779</td>\n",
       "    </tr>\n",
       "    <tr>\n",
       "      <th>2</th>\n",
       "      <td>India</td>\n",
       "      <td>16-09-2021</td>\n",
       "      <td>36</td>\n",
       "      <td>Yes</td>\n",
       "      <td>-0.392919</td>\n",
       "    </tr>\n",
       "    <tr>\n",
       "      <th>3</th>\n",
       "      <td>India</td>\n",
       "      <td>24-10-2021</td>\n",
       "      <td>9</td>\n",
       "      <td>No</td>\n",
       "      <td>-1.157518</td>\n",
       "    </tr>\n",
       "    <tr>\n",
       "      <th>4</th>\n",
       "      <td>India</td>\n",
       "      <td>05-06-2021</td>\n",
       "      <td>45</td>\n",
       "      <td>Yes</td>\n",
       "      <td>-0.138053</td>\n",
       "    </tr>\n",
       "  </tbody>\n",
       "</table>\n",
       "</div>"
      ],
      "text/plain": [
       "  Location        Date  Value_lacs Sold    zscore\n",
       "0    India  21-09-2021         123  Yes  2.070789\n",
       "1    India  22-08-2021          49  Yes -0.024779\n",
       "2    India  16-09-2021          36  Yes -0.392919\n",
       "3    India  24-10-2021           9   No -1.157518\n",
       "4    India  05-06-2021          45  Yes -0.138053"
      ]
     },
     "execution_count": 55,
     "metadata": {},
     "output_type": "execute_result"
    }
   ],
   "source": [
    "data.head()"
   ]
  },
  {
   "cell_type": "markdown",
   "id": "2e5cffb2",
   "metadata": {},
   "source": [
    "**Above for first record with value_lacs 123,z score is 2.07. This means 123 is 2.07 standard deviation away from the mean of the value_lacs column**"
   ]
  },
  {
   "cell_type": "markdown",
   "id": "3dc52efb",
   "metadata": {},
   "source": [
    "**Now lets get data points that has Z score higher than 2 or lower than -2. Another way of saying same thing is get data points that are more than 2 standard deviation away.**"
   ]
  },
  {
   "cell_type": "code",
   "execution_count": 56,
   "id": "dbeaa2ac",
   "metadata": {},
   "outputs": [
    {
     "data": {
      "text/html": [
       "<div>\n",
       "<style scoped>\n",
       "    .dataframe tbody tr th:only-of-type {\n",
       "        vertical-align: middle;\n",
       "    }\n",
       "\n",
       "    .dataframe tbody tr th {\n",
       "        vertical-align: top;\n",
       "    }\n",
       "\n",
       "    .dataframe thead th {\n",
       "        text-align: right;\n",
       "    }\n",
       "</style>\n",
       "<table border=\"1\" class=\"dataframe\">\n",
       "  <thead>\n",
       "    <tr style=\"text-align: right;\">\n",
       "      <th></th>\n",
       "      <th>Location</th>\n",
       "      <th>Date</th>\n",
       "      <th>Value_lacs</th>\n",
       "      <th>Sold</th>\n",
       "      <th>zscore</th>\n",
       "    </tr>\n",
       "  </thead>\n",
       "  <tbody>\n",
       "    <tr>\n",
       "      <th>0</th>\n",
       "      <td>India</td>\n",
       "      <td>21-09-2021</td>\n",
       "      <td>123</td>\n",
       "      <td>Yes</td>\n",
       "      <td>2.070789</td>\n",
       "    </tr>\n",
       "  </tbody>\n",
       "</table>\n",
       "</div>"
      ],
      "text/plain": [
       "  Location        Date  Value_lacs Sold    zscore\n",
       "0    India  21-09-2021         123  Yes  2.070789"
      ]
     },
     "execution_count": 56,
     "metadata": {},
     "output_type": "execute_result"
    }
   ],
   "source": [
    "data[data['zscore']>2]"
   ]
  },
  {
   "cell_type": "code",
   "execution_count": 57,
   "id": "0ac15116",
   "metadata": {},
   "outputs": [
    {
     "data": {
      "text/html": [
       "<div>\n",
       "<style scoped>\n",
       "    .dataframe tbody tr th:only-of-type {\n",
       "        vertical-align: middle;\n",
       "    }\n",
       "\n",
       "    .dataframe tbody tr th {\n",
       "        vertical-align: top;\n",
       "    }\n",
       "\n",
       "    .dataframe thead th {\n",
       "        text-align: right;\n",
       "    }\n",
       "</style>\n",
       "<table border=\"1\" class=\"dataframe\">\n",
       "  <thead>\n",
       "    <tr style=\"text-align: right;\">\n",
       "      <th></th>\n",
       "      <th>Location</th>\n",
       "      <th>Date</th>\n",
       "      <th>Value_lacs</th>\n",
       "      <th>Sold</th>\n",
       "      <th>zscore</th>\n",
       "    </tr>\n",
       "  </thead>\n",
       "  <tbody>\n",
       "  </tbody>\n",
       "</table>\n",
       "</div>"
      ],
      "text/plain": [
       "Empty DataFrame\n",
       "Columns: [Location, Date, Value_lacs, Sold, zscore]\n",
       "Index: []"
      ]
     },
     "execution_count": 57,
     "metadata": {},
     "output_type": "execute_result"
    }
   ],
   "source": [
    "data[data['zscore']<-2]"
   ]
  },
  {
   "cell_type": "code",
   "execution_count": 59,
   "id": "8c712367",
   "metadata": {},
   "outputs": [
    {
     "data": {
      "text/html": [
       "<div>\n",
       "<style scoped>\n",
       "    .dataframe tbody tr th:only-of-type {\n",
       "        vertical-align: middle;\n",
       "    }\n",
       "\n",
       "    .dataframe tbody tr th {\n",
       "        vertical-align: top;\n",
       "    }\n",
       "\n",
       "    .dataframe thead th {\n",
       "        text-align: right;\n",
       "    }\n",
       "</style>\n",
       "<table border=\"1\" class=\"dataframe\">\n",
       "  <thead>\n",
       "    <tr style=\"text-align: right;\">\n",
       "      <th></th>\n",
       "      <th>Location</th>\n",
       "      <th>Date</th>\n",
       "      <th>Value_lacs</th>\n",
       "      <th>Sold</th>\n",
       "      <th>zscore</th>\n",
       "    </tr>\n",
       "  </thead>\n",
       "  <tbody>\n",
       "    <tr>\n",
       "      <th>0</th>\n",
       "      <td>India</td>\n",
       "      <td>21-09-2021</td>\n",
       "      <td>123</td>\n",
       "      <td>Yes</td>\n",
       "      <td>2.070789</td>\n",
       "    </tr>\n",
       "  </tbody>\n",
       "</table>\n",
       "</div>"
      ],
      "text/plain": [
       "  Location        Date  Value_lacs Sold    zscore\n",
       "0    India  21-09-2021         123  Yes  2.070789"
      ]
     },
     "execution_count": 59,
     "metadata": {},
     "output_type": "execute_result"
    }
   ],
   "source": [
    "data[(data.zscore<-2)|(data.zscore>2)] #lets see the outliers"
   ]
  },
  {
   "cell_type": "code",
   "execution_count": 60,
   "id": "f393ef7d",
   "metadata": {},
   "outputs": [
    {
     "data": {
      "text/html": [
       "<div>\n",
       "<style scoped>\n",
       "    .dataframe tbody tr th:only-of-type {\n",
       "        vertical-align: middle;\n",
       "    }\n",
       "\n",
       "    .dataframe tbody tr th {\n",
       "        vertical-align: top;\n",
       "    }\n",
       "\n",
       "    .dataframe thead th {\n",
       "        text-align: right;\n",
       "    }\n",
       "</style>\n",
       "<table border=\"1\" class=\"dataframe\">\n",
       "  <thead>\n",
       "    <tr style=\"text-align: right;\">\n",
       "      <th></th>\n",
       "      <th>Location</th>\n",
       "      <th>Date</th>\n",
       "      <th>Value_lacs</th>\n",
       "      <th>Sold</th>\n",
       "      <th>zscore</th>\n",
       "    </tr>\n",
       "  </thead>\n",
       "  <tbody>\n",
       "    <tr>\n",
       "      <th>1</th>\n",
       "      <td>India</td>\n",
       "      <td>22-08-2021</td>\n",
       "      <td>49</td>\n",
       "      <td>Yes</td>\n",
       "      <td>-0.024779</td>\n",
       "    </tr>\n",
       "    <tr>\n",
       "      <th>2</th>\n",
       "      <td>India</td>\n",
       "      <td>16-09-2021</td>\n",
       "      <td>36</td>\n",
       "      <td>Yes</td>\n",
       "      <td>-0.392919</td>\n",
       "    </tr>\n",
       "    <tr>\n",
       "      <th>3</th>\n",
       "      <td>India</td>\n",
       "      <td>24-10-2021</td>\n",
       "      <td>9</td>\n",
       "      <td>No</td>\n",
       "      <td>-1.157518</td>\n",
       "    </tr>\n",
       "    <tr>\n",
       "      <th>4</th>\n",
       "      <td>India</td>\n",
       "      <td>05-06-2021</td>\n",
       "      <td>45</td>\n",
       "      <td>Yes</td>\n",
       "      <td>-0.138053</td>\n",
       "    </tr>\n",
       "    <tr>\n",
       "      <th>5</th>\n",
       "      <td>India</td>\n",
       "      <td>26-11-2021</td>\n",
       "      <td>36</td>\n",
       "      <td>No</td>\n",
       "      <td>-0.392919</td>\n",
       "    </tr>\n",
       "    <tr>\n",
       "      <th>6</th>\n",
       "      <td>India</td>\n",
       "      <td>07-11-2021</td>\n",
       "      <td>25</td>\n",
       "      <td>Yes</td>\n",
       "      <td>-0.704422</td>\n",
       "    </tr>\n",
       "    <tr>\n",
       "      <th>7</th>\n",
       "      <td>India</td>\n",
       "      <td>28-12-2021</td>\n",
       "      <td>76</td>\n",
       "      <td>Yes</td>\n",
       "      <td>0.739820</td>\n",
       "    </tr>\n",
       "  </tbody>\n",
       "</table>\n",
       "</div>"
      ],
      "text/plain": [
       "  Location        Date  Value_lacs Sold    zscore\n",
       "1    India  22-08-2021          49  Yes -0.024779\n",
       "2    India  16-09-2021          36  Yes -0.392919\n",
       "3    India  24-10-2021           9   No -1.157518\n",
       "4    India  05-06-2021          45  Yes -0.138053\n",
       "5    India  26-11-2021          36   No -0.392919\n",
       "6    India  07-11-2021          25  Yes -0.704422\n",
       "7    India  28-12-2021          76  Yes  0.739820"
      ]
     },
     "execution_count": 60,
     "metadata": {},
     "output_type": "execute_result"
    }
   ],
   "source": [
    "data_no_outliers = data[(data.zscore>-2) & (data.zscore<2)]\n",
    "\n",
    "data_no_outliers\n",
    "\n",
    "#lets clean the outlier and get the clean dataset"
   ]
  },
  {
   "cell_type": "markdown",
   "id": "482e4698",
   "metadata": {},
   "source": [
    "**Thank You**"
   ]
  },
  {
   "cell_type": "code",
   "execution_count": null,
   "id": "a48f87ba",
   "metadata": {},
   "outputs": [],
   "source": []
  }
 ],
 "metadata": {
  "kernelspec": {
   "display_name": "Python 3 (ipykernel)",
   "language": "python",
   "name": "python3"
  },
  "language_info": {
   "codemirror_mode": {
    "name": "ipython",
    "version": 3
   },
   "file_extension": ".py",
   "mimetype": "text/x-python",
   "name": "python",
   "nbconvert_exporter": "python",
   "pygments_lexer": "ipython3",
   "version": "3.9.12"
  }
 },
 "nbformat": 4,
 "nbformat_minor": 5
}
